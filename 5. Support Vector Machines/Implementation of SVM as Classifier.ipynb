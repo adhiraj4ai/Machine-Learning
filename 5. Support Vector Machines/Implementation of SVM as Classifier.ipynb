{
 "cells": [
  {
   "cell_type": "code",
   "execution_count": 2,
   "metadata": {},
   "outputs": [],
   "source": [
    "# Import pandas\n",
    "import pandas as pd\n",
    "\n",
    "# Import SVM Classifier\n",
    "from sklearn.svm import SVC\n",
    "\n",
    "# Import train test split\n",
    "from sklearn.model_selection import train_test_split\n",
    "\n",
    "# Import score metrics\n",
    "from sklearn.metrics import accuracy_score, recall_score, precision_score\n",
    "\n",
    "# Import datasets\n",
    "from sklearn.datasets import load_breast_cancer"
   ]
  },
  {
   "cell_type": "code",
   "execution_count": 3,
   "metadata": {},
   "outputs": [
    {
     "name": "stdout",
     "output_type": "stream",
     "text": [
      "(569, 30) (569,)\n"
     ]
    }
   ],
   "source": [
    "# Load cancer data\n",
    "cancer_data = load_breast_cancer()\n",
    "\n",
    "# Extract X and y as pandas dataframe\n",
    "X = pd.DataFrame(cancer_data['data'], columns=cancer_data['feature_names'])\n",
    "y = pd.Series(cancer_data['target'])\n",
    "\n",
    "# Print the shape\n",
    "print(X.shape, y.shape)"
   ]
  },
  {
   "cell_type": "code",
   "execution_count": 5,
   "metadata": {},
   "outputs": [
    {
     "name": "stdout",
     "output_type": "stream",
     "text": [
      "Shape of training data: (455, 30) \n",
      "Shape of the test data: (114, 30)\n"
     ]
    }
   ],
   "source": [
    "# Split the data into training and test\n",
    "X_train, X_test, y_train, y_test = train_test_split(X, y, test_size= 0.2)\n",
    "\n",
    "# Print the size\n",
    "print(\"Shape of training data: {} \\nShape of the test data: {}\".format(X_train.shape, X_test.shape))"
   ]
  },
  {
   "cell_type": "code",
   "execution_count": 13,
   "metadata": {},
   "outputs": [
    {
     "name": "stdout",
     "output_type": "stream",
     "text": [
      "Accuracy for linear SVM: 0.9649122807017544\n",
      "Precision for linear SVM: 0.9506172839506173\n",
      "Recall for linear SVM: 1.0\n",
      "\n",
      "\n",
      "Accuracy for poly SVM: 0.9122807017543859\n",
      "Precision for poly SVM: 0.8941176470588236\n",
      "Recall for poly SVM: 0.987012987012987\n",
      "\n",
      "\n",
      "Accuracy for rbf SVM: 0.9122807017543859\n",
      "Precision for rbf SVM: 0.8941176470588236\n",
      "Recall for rbf SVM: 0.987012987012987\n",
      "\n",
      "\n",
      "Accuracy for sigmoid SVM: 0.4824561403508772\n",
      "Precision for sigmoid SVM: 0.6097560975609756\n",
      "Recall for sigmoid SVM: 0.6493506493506493\n",
      "\n",
      "\n"
     ]
    }
   ],
   "source": [
    "# Build the model\n",
    "for k in ['linear', 'poly', 'rbf', 'sigmoid']:\n",
    "    svm_classifier = SVC(kernel=k)\n",
    "\n",
    "    # fit the training data\n",
    "    svm_classifier.fit(X_train, y_train)\n",
    "\n",
    "    # Predict on test data\n",
    "    y_pred = svm_classifier.predict(X_test)\n",
    "\n",
    "    # Compute accuracy score\n",
    "    print(\"Accuracy for {} SVM: {}\".format(k, accuracy_score(y_test, y_pred)))\n",
    "    print(\"Precision for {} SVM: {}\".format(k, precision_score(y_test, y_pred)))\n",
    "    print(\"Recall for {} SVM: {}\".format(k, recall_score(y_test, y_pred)))\n",
    "    print(\"\\n\")\n",
    "\n"
   ]
  },
  {
   "attachments": {},
   "cell_type": "markdown",
   "metadata": {},
   "source": [
    "**Interpretation**: In the above, linear kernel seems to perform very well with acuracy of 96% and precision of 95% with recall 100%. This is infact a very good performance of the model."
   ]
  }
 ],
 "metadata": {
  "kernelspec": {
   "display_name": "base",
   "language": "python",
   "name": "python3"
  },
  "language_info": {
   "codemirror_mode": {
    "name": "ipython",
    "version": 3
   },
   "file_extension": ".py",
   "mimetype": "text/x-python",
   "name": "python",
   "nbconvert_exporter": "python",
   "pygments_lexer": "ipython3",
   "version": "3.9.16"
  },
  "orig_nbformat": 4
 },
 "nbformat": 4,
 "nbformat_minor": 2
}
