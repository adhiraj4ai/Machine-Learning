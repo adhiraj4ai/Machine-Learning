{
  "nbformat": 4,
  "nbformat_minor": 0,
  "metadata": {
    "colab": {
      "provenance": [],
      "authorship_tag": "ABX9TyNJfxp5RpyDAjKDRaKNUfuj",
      "include_colab_link": true
    },
    "kernelspec": {
      "name": "python3",
      "display_name": "Python 3"
    },
    "language_info": {
      "name": "python"
    }
  },
  "cells": [
    {
      "cell_type": "markdown",
      "metadata": {
        "id": "view-in-github",
        "colab_type": "text"
      },
      "source": [
        "<a href=\"https://colab.research.google.com/github/adhiraj4ai/Machine-Learning/blob/main/9.%20Outlier%20Detection%5C9_Outlier_Detection.ipynb\" target=\"_parent\"><img src=\"https://colab.research.google.com/assets/colab-badge.svg\" alt=\"Open In Colab\"/></a>"
      ]
    },
    {
      "cell_type": "markdown",
      "source": [
        "# Outlier Detection\n",
        "Data Scientist are mostly engaged in making sense out of data. Data are raw and contains all sorts of observation derived through some process or applications. All these observation are expected to be of similar nature but not exactly same however the behaviour of the data are to be studied and analyzed to know if data shows normal expected behavior or abnormal unexpected behavior i.e. other than usual one. They are significantly different from rest of the dataset usually measured in terms of value they hold.\n",
        "\n",
        "Thus, outlier are those observations which are of unusual nature compared to other similar observation. They fall outside of an expected distribution or pattern of data. The location or value of outliers differ strongly from the other data points in the sample of a population. \n",
        "\n",
        "For example, in the height measurement of students in a class we noticed, that the average height of the students is 5.2 ft. However some observation shows the height of 14.7 and 15.1 ft. These observations are actually outliers which has occured probably due to typing error.\n",
        "\n",
        "Outlier detection is a technique and primary steps in data sceince process which helps us to identify the observation that are abnormal compared to majority settings of the observation. \n",
        "\n",
        "An outlier detection is a technique to detect outlier observation/samples that do not fit the typical data distribution of other samples. \n",
        "\n",
        "Outliers are usually detected/identified through the process of exploratory data analysis performed during any data science project. We need to decide our strategy to take action on those outlier observation whether to keep or remove from our datasets before we train our machine learning model because ML model very likely to be biased with the presence of outlier.\n",
        "\n",
        "<img src = \"https://drive.google.com/uc?id=1b2ljC32en7KME7eACw_iFiWYmNUJyeF1\"  alt =\"\" />\n",
        "\n",
        "There are two main reasons for outlier detection:\n",
        "1. Outliers are very likely to negatively bias the result of data analysis.\n",
        "2. Outliers are of immense interest of study.\n",
        "\n",
        "For both of the scenario the process of outlier detection is important. \n"
      ],
      "metadata": {
        "id": "P0yWxNF93Qb-"
      }
    },
    {
      "cell_type": "markdown",
      "source": [
        "## Chalanges of Outlier Detection\n",
        "* There are various techniques to detect and identify outliers from the given dataset. However, there is no single technique that identify the outliers properly.\n",
        "* Outlier detection is hard because exeistence of outliers are defined by the domain and application scenario. \n",
        "* Sometimes, the presence of noise in the dataset are pretty similar to the actual outliers and hence, its difficult distinguish them. \n",
        "\n",
        "## Types of outliers\n",
        "Outlier can be classified into three categories:\n",
        "\n",
        "1. **Global Outliers:** \n",
        "\n",
        "    These are the simplest of all kinds and are the types of outliers that deviates significantly from the rest of the dataset. Global outliers are also called point anamolies.\n",
        "\n",
        "    Fraud in credit card transaction, intrusion in computer networks etc are global outliers which can be detected by measuring the divergence of some data points from the distribution of other data. To detect global outliers, we need to find an appropriate measurement of deviation with respect to application in question. \n",
        "\n",
        "    In Credit card fraud detection, we analyze the previous transactions performed by the customer and comapred with the current one. A very high amount transaction as compared to the usual transaction amount of the customer's expenditure will be considered as point outlier that \n",
        "\n",
        "\n",
        "2. **Contextual outliers:** \n",
        "\n",
        "    An outlier that is exceptional to the specific context is called as contextual outliers. For example, age of the person is 105 whcih is very exceptional compared to the whole population.\n",
        "\n",
        "    In a given context, an obvservation is a contextual outlier if it deviates significantly with respect to a specific context of the obserrvations. Contextual outliers are also known as conditional outliers as they are conditional on the selected context. The notion of context is highly influenced by the distribution of dataset and is specified as aprt of problem definition.\n",
        "\n",
        "\n",
        "3. **Collective outliers:**\n",
        "    \n",
        "    When a subject of dataset deviates significantly from the entire dataset forming a different cluster, we call it a collective cluster. In this, individual observation is not an outlier rather its a group of observation forming small subset or cluster having different behaviour then rest of the samples. In collective outliers, we have to consider the behavior of group not only the individual points or objects."
      ],
      "metadata": {
        "id": "lP8Hbd8z-ceN"
      }
    },
    {
      "cell_type": "markdown",
      "source": [
        "## Outlier Detection Methods:\n",
        "Common approaches for outlier Detection includes:\n",
        "1. [Statistical based appraoches]()\n",
        "2. [Proximity based appraoches]()\n",
        "3. [Clustering based approaches]()\n",
        "4. [Classification based approaches]()\n",
        "5. [Project based approaches]()"
      ],
      "metadata": {
        "id": "qFlRfRLN9nc9"
      }
    },
    {
      "cell_type": "code",
      "source": [],
      "metadata": {
        "id": "0HsGe1HoA-Nx"
      },
      "execution_count": null,
      "outputs": []
    }
  ]
}