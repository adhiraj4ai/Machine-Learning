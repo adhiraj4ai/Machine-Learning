{
  "nbformat": 4,
  "nbformat_minor": 0,
  "metadata": {
    "colab": {
      "provenance": [],
      "authorship_tag": "ABX9TyNlZcbfozhvVxOzk5k9YArA",
      "include_colab_link": true
    },
    "kernelspec": {
      "name": "python3",
      "display_name": "Python 3"
    },
    "language_info": {
      "name": "python"
    }
  },
  "cells": [
    {
      "cell_type": "markdown",
      "metadata": {
        "id": "view-in-github",
        "colab_type": "text"
      },
      "source": [
        "<a href=\"https://colab.research.google.com/github/adhiraj4ai/Machine-Learning/blob/main/9.%20Outlier%20Detection%20/%209_1_Outlier_Detection_Statistics_based_approach.ipynb\" target=\"_parent\"><img src=\"https://colab.research.google.com/assets/colab-badge.svg\" alt=\"Open In Colab\"/></a>"
      ]
    },
    {
      "cell_type": "markdown",
      "source": [
        "# 9.1. Statistical based approach for outlier detection\n",
        "Statistical Methods are also called model based methods where statistical models are used for outlier detection. This approach make an assumption of data normality. They assure the data objects are generated throuh as a statistical stochastic model.\n",
        "\n",
        "Following are different statistical methods for outlier detection:\n",
        "\n",
        "1. [Histogram](https://colab.research.google.com/drive/1gBZG9z3CQCAHkjymK0Ulsfvx-amTPUp1#scrollTo=7Dd8RKWOMI3s&line=1&uniqifier=1)\n",
        "2. [Z-score](https://colab.research.google.com/drive/1gBZG9z3CQCAHkjymK0Ulsfvx-amTPUp1#scrollTo=P5i9al0fMMyV&line=1&uniqifier=1)\n",
        "3. [Modified Z-score](https://colab.research.google.com/drive/1gBZG9z3CQCAHkjymK0Ulsfvx-amTPUp1#scrollTo=67wSzKLjWJ5I&line=6&uniqifier=1)\n",
        "3. [Box Plot](https://colab.research.google.com/drive/1gBZG9z3CQCAHkjymK0Ulsfvx-amTPUp1#scrollTo=axpQBT1ILeE-&line=1&uniqifier=1)\n",
        "4. [Inter Quartile Range (IQR)](https://colab.research.google.com/drive/1gBZG9z3CQCAHkjymK0Ulsfvx-amTPUp1#scrollTo=6ykldK96Lf6q&line=1&uniqifier=1)"
      ],
      "metadata": {
        "id": "hcEP80C3KOUx"
      }
    },
    {
      "cell_type": "markdown",
      "source": [
        "1. **Histogram:**\n",
        "    \n",
        "    Histogram is the distribution plot of dataset where we can observe the distribution of data visually and see if outliers are present in data. It is a non parametric statistical model to capture outliers. Take a look at the data and plot below:"
      ],
      "metadata": {
        "id": "7Dd8RKWOMI3s"
      }
    },
    {
      "cell_type": "code",
      "source": [
        "import numpy as np\n",
        "from matplotlib import pyplot as plt\n",
        "\n",
        "data = np.array([1, 2, 3, 3, 1, 2, 6, 3, 3, 5, 2, 6, 4, 3, 2, 7, 6, 9, 5, 4, 19, 17, 16, 25, 30])\n",
        "plt.hist(data)\n",
        "plt.show()"
      ],
      "metadata": {
        "colab": {
          "base_uri": "https://localhost:8080/",
          "height": 265
        },
        "id": "xZdmL_Z6MMgV",
        "outputId": "6ca02b0a-b513-4e4a-f6d4-a0c9d69f7dea"
      },
      "execution_count": 12,
      "outputs": [
        {
          "output_type": "display_data",
          "data": {
            "text/plain": [
              "<Figure size 432x288 with 1 Axes>"
            ],
            "image/png": "[encoded data removed]"
          },
          "metadata": {
            "needs_background": "light"
          }
        }
      ]
    },
    {
      "cell_type": "markdown",
      "source": [
        "In the above graph we can observe the presence of outlier points through the distribution. Some values at 16 and beyond exits in the data.\n",
        "\n",
        "One of the difficulties in using histograms is that it is hard to choose an appropriate bin size. On the one hand, if the bin size is set too small, many normal objects may end up in enmpty or rare bins and it the bin size is set too large, outlier objects ma inflate into some frequent bins."
      ],
      "metadata": {
        "id": "-NJ5tQ0XOnXO"
      }
    },
    {
      "cell_type": "markdown",
      "source": [
        "2. **Z-score:**\n",
        "    \n",
        "    The Z-score for any observation is defined as:\n",
        "\n",
        "    \\begin{equation}\n",
        "    Z = (x - \\bar x) / σ\n",
        "    \\end{equation}\n",
        "\n",
        "    where, $\\bar x $ is the mean and $σ$ is the standard deviation and $x$ is the observation.\n",
        "\n",
        "    It is one of the simplest statistical measure for outlier detection. In a statistical distribution, Z-score tells us how many standard deviation away a given observation is from the mean of all the observations. A X-score of 1.5 means that an observation is 1.5 S.D. away from the mean of all the observations."
      ],
      "metadata": {
        "id": "P5i9al0fMMyV"
      }
    },
    {
      "cell_type": "code",
      "execution_count": 15,
      "metadata": {
        "colab": {
          "base_uri": "https://localhost:8080/"
        },
        "id": "ZtSAcoFbBUcV",
        "outputId": "c9cf5561-faf5-438a-95ed-5255dcddd720"
      },
      "outputs": [
        {
          "output_type": "stream",
          "name": "stdout",
          "text": [
            "[-0.83231245 -0.70144571 -0.57057897 -0.57057897 -0.83231245 -0.70144571\n",
            " -0.17797876 -0.57057897 -0.57057897 -0.3088455  -0.70144571 -0.17797876\n",
            " -0.43971224 -0.57057897 -0.70144571 -0.04711203 -0.17797876  0.21462145\n",
            " -0.3088455  -0.43971224  1.52328882  1.26155535  1.13068861  2.30848925\n",
            "  2.96282293]\n"
          ]
        }
      ],
      "source": [
        "z_score = []\n",
        "for x in data:\n",
        "    z = (x - data.mean())/data.std()\n",
        "    z_score.append(z)\n",
        "\n",
        "print(np.array(z_score))"
      ]
    },
    {
      "cell_type": "markdown",
      "source": [
        "3. **Modified Z-Score:**\n",
        "    Z-score is used when data are normally distributed and sample size is small. And, Z-score is also sensitive to extreme values. This matters because mean is one of the parameter to calculate Z-score and mean is sensitive towards extreme value. So it may not properly identify the outliers.\n",
        "\n",
        "    So, the Z-score is modified to eliminate these limitations which has following modifications:\n",
        "    * Replace mean with median; median is less sensitive towards outliers.\n",
        "    * The values resulting from the difference between observation and median is multiplied by a constant in order to make it approximately equal to SD (for normally ditributed data).\n",
        "\n",
        "    \\begin{equation}\n",
        "        Modified Z-score = 0.6745 * (x - median)/MAD\n",
        "    \\end{equation}\n",
        "\n",
        " It is recommended that `Modified Z-scores` with an absolute value of greater than 3.5 be labeled as potential outliers. "
      ],
      "metadata": {
        "id": "67wSzKLjWJ5I"
      }
    },
    {
      "cell_type": "code",
      "source": [
        "z_score = []\n",
        "for x in data:\n",
        "    z = (x - data.mean())/data.std()\n",
        "    z_score.append(z)\n",
        "\n",
        "print(np.array(z_score))"
      ],
      "metadata": {
        "id": "qK9ZXlXRWJVi"
      },
      "execution_count": null,
      "outputs": []
    },
    {
      "cell_type": "markdown",
      "source": [
        "4. **Inter Quartile Range (IQR):**\n",
        "    In univariate dataset, median splits data into two halves because median is the midpoint or mid location for the given daataset. Similarly, quartiles divides data into four halves at three different quartile point - 1st, 2nd and 3rd quartiles where 2nd quartiles is median again. \n",
        "\n",
        "    Thus, the interquartile range is the distance between 1st and 3rd quartiles. Interquartile range for univariate data can be used for outlier detection as the data point too far from the 1st and 3rd quartile are considered as outliers. \n",
        "\n",
        "    Steps:\n",
        "\n",
        "    i) Compute first quartile(Q1) and third quartile(Q3) for given dataset\n",
        "\n",
        "    ii) Calcualte the difference between Q3 and Q1. \n",
        "        IQR = Q3 - Q1\n",
        "    iii) If any oversation lies beyond `Q1 - 1.5 * IQR` and `Q3 + 1.5 * IQR` then they are considered as outlier."
      ],
      "metadata": {
        "id": "6ykldK96Lf6q"
      }
    },
    {
      "cell_type": "code",
      "source": [
        "# Compute first quartile - Q1\n",
        "Q1 = np.percentile(data, 25, interpolation = \"midpoint\")\n",
        "\n",
        "# Compute third quartile - Q3\n",
        "Q3 = np.percentile(data, 75, interpolation = \"midpoint\")\n",
        "\n",
        "# Compaute IQR\n",
        "IQR = Q3 - Q1\n",
        "lower_bound = Q1 - IQR * 1.5\n",
        "upper_bound = Q3 + IQR * 1.5\n",
        "\n",
        "# Finding outlier\n",
        "data[np.logical_or(data < lower_bound, data > upper_bound)]"
      ],
      "metadata": {
        "colab": {
          "base_uri": "https://localhost:8080/"
        },
        "id": "b-0K8URLLja9",
        "outputId": "2239bba3-0233-4069-9e1b-e6eee8487bf1"
      },
      "execution_count": 26,
      "outputs": [
        {
          "output_type": "execute_result",
          "data": {
            "text/plain": [
              "array([19, 17, 16, 25, 30])"
            ]
          },
          "metadata": {},
          "execution_count": 26
        }
      ]
    },
    {
      "cell_type": "markdown",
      "source": [
        "5. **Box Plot:**\n",
        "\n",
        " Boxplot is a graphical technique to identify outliers which utilizes the IQR value computed above. Box plot provides following information through visual graphs:\n",
        "    1. Median of the data\n",
        "    2. First Quartile and 3rd Quartile\n",
        "    4. Inter Quartile Range\n",
        "    5. Outliers\n",
        "\n",
        " The plot below shows outliers visually based on IQR calculated above. But the IQR here is calculated implicitly by the library."
      ],
      "metadata": {
        "id": "axpQBT1ILeE-"
      }
    },
    {
      "cell_type": "code",
      "source": [
        "plt.boxplot(data)\n",
        "plt.show()"
      ],
      "metadata": {
        "colab": {
          "base_uri": "https://localhost:8080/",
          "height": 265
        },
        "id": "8oAzFRZ_Lidu",
        "outputId": "4e0f9450-7edf-4140-a80f-7f05665fd8cb"
      },
      "execution_count": 17,
      "outputs": [
        {
          "output_type": "display_data",
          "data": {
            "text/plain": [
              "<Figure size 432x288 with 1 Axes>"
            ],
            "image/png": "[encoded data removed]"
          },
          "metadata": {
            "needs_background": "light"
          }
        }
      ]
    },
    {
      "cell_type": "code",
      "source": [],
      "metadata": {
        "id": "4Nx1_UWxMTSe"
      },
      "execution_count": null,
      "outputs": []
    }
  ]
}