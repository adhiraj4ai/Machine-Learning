{
  "nbformat": 4,
  "nbformat_minor": 0,
  "metadata": {
    "colab": {
      "provenance": [],
      "authorship_tag": "ABX9TyMzqvRVZUxmcCvYWdPQjFTB",
      "include_colab_link": true
    },
    "kernelspec": {
      "name": "python3",
      "display_name": "Python 3"
    },
    "language_info": {
      "name": "python"
    }
  },
  "cells": [
    {
      "cell_type": "markdown",
      "metadata": {
        "id": "view-in-github",
        "colab_type": "text"
      },
      "source": [
        "<a href=\"https://colab.research.google.com/github/adhiraj4ai/Machine-Learning/blob/main/6.%20Ensemble%20Learning/6_Ensemble_Learning.ipynb\" target=\"_parent\"><img src=\"https://colab.research.google.com/assets/colab-badge.svg\" alt=\"Open In Colab\"/></a>"
      ]
    },
    {
      "cell_type": "markdown",
      "source": [
        "## Ensemble Learning\n",
        "Emseble in literal term refers to the group of artistists performing together. Machine learning use similar notion of ensemble where group of machine models learn together to perform better i.e. predict better results.\n",
        "\n",
        "For example, if you have to buy a laptop, you don't directly go randomly to any shop and buy a laptop that shopkeeper shows to you. You visit multiple shops, based on your requirement, specifications available in the market and budget you have you make a choice. But you investigate the laptop models of different brands of different costs and varieties of spec. You may also consult with your friends and family before you make a purchase. This is the process of accumulating information from all possible sources and make a best decision.\n",
        "\n",
        "Same applies to Ensemble learning in machine learning. Ensemble learning is a technique to combine the prediction power of two or more models for better prediction on machine learning tasks. Ensemble learning is, thus, combines the decisions of multiple models in order to improve the overall performance of model to make better decision.\n",
        "\n",
        "In ensemble learning technique, several learners are combined to obtain a better performance than any learners individually. Effectiveness of Ensemble\n",
        "From the above defianition, we have already kown that the ensemble technique is more powerful then individual models.\n",
        "\n",
        "There are various ways to combine decision from multiple models. We will discuss them below in details ."
      ],
      "metadata": {
        "id": "DMv6cSxpXLnl"
      }
    },
    {
      "cell_type": "markdown",
      "source": [
        "Ensemble techniques can be categorized into two types:\n",
        "\n",
        "#### 1. Simple Ensemble Technique\n",
        "Under simple ensemble technique following are the techniques:\n",
        "\n",
        "**a. Max Voting**\n",
        "\n",
        "**b. Averaging**\n",
        "\n",
        "**c. Weighted Ageraging**\n",
        "\n",
        "\n",
        "#### 2. Advance Ensemble technique\n",
        "This includes:\n",
        "\n",
        "**a. [Bagging](https://colab.research.google.com/drive/1KRJsU13OtM6xQtufapR0bJrYIK-qdMmE)**\n",
        "\n",
        "**b. [Boosting](https://colab.research.google.com/drive/1_cEMx22kpmLZ5vE63lxkq5AzMiaLdYyO#scrollTo=EGnqQmf2SK3t)**\n",
        "\n",
        "**c. [Stacking](https://colab.research.google.com/drive/14FpwTvi-O6vIK9Y8E2YwQeE_t0izDqEm)**\n",
        "\n",
        "We will discuss only about Simple Ensemble Technique in this notebook. For advanced, Ensemble technique, browse to the corresponding link above."
      ],
      "metadata": {
        "id": "uE4V454LYvKN"
      }
    },
    {
      "cell_type": "code",
      "source": [
        "# import libraries\n",
        "import numpy as np\n",
        "import os\n",
        "from random import shuffle\n",
        "import matplotlib.pyplot as plt\n",
        "%matplotlib inline"
      ],
      "metadata": {
        "id": "gdjLmraleYX4"
      },
      "execution_count": null,
      "outputs": []
    },
    {
      "cell_type": "markdown",
      "source": [
        "## Simple Ensemble Technique\n",
        "\n",
        "### 1. Max Voting\n",
        "This method is also called Majority Voting and generally used for classification problems. \n",
        "\n",
        "\n",
        "For example, we have three models that classifies whether a given input image is `cat` or `dog`. Two of the classifier 'Classifier A' and 'Classifier B' classifid the input to `cat` and one classifier classified to `dog`. The Ensemble will classify the input as `cat` as per the majority voting."
      ],
      "metadata": {
        "id": "qiFbZ-1cZpXR"
      }
    },
    {
      "cell_type": "code",
      "source": [
        "# Create three classifiers\n",
        "from sklearn.linear_model import LogisticRegression\n",
        "from sklearn.tree import DecisionTreeClassifier\n",
        "from sklearn.svm import LinearSVC\n",
        "model1 = LogisticRegression(random_state = 42)\n",
        "model2 = DecisionTreeClassifier(random_state = 42)\n",
        "model3 = LinearSVC(random_state=42)\n",
        "\n",
        "# Create Voting classifier\n",
        "from sklearn.ensemble import VotingClassifier\n",
        "ensemble_model = VotingClassifier(\n",
        "    estimators = [\n",
        "        ('Logistic', model1),\n",
        "        ('Decision Tree', model2),\n",
        "        ('Linear SVC', model3)\n",
        "    ], voting = \"hard\"\n",
        ")\n",
        "\n",
        "# Fit the model and evaluate the result\n",
        "#model.fit(X_train, y_train)\n",
        "\n",
        "#model.score(X_test, y_tes)"
      ],
      "metadata": {
        "id": "W3koX8U6W9iM"
      },
      "execution_count": null,
      "outputs": []
    }
  ]
}